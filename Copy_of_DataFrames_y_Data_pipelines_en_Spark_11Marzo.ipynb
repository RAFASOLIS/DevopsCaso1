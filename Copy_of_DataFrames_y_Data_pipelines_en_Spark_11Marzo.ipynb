{
  "nbformat": 4,
  "nbformat_minor": 0,
  "metadata": {
    "kernelspec": {
      "display_name": "Python 3",
      "language": "python",
      "name": "python3"
    },
    "language_info": {
      "codemirror_mode": {
        "name": "ipython",
        "version": 3
      },
      "file_extension": ".py",
      "mimetype": "text/x-python",
      "name": "python",
      "nbconvert_exporter": "python",
      "pygments_lexer": "ipython3",
      "version": "3.8.2"
    },
    "colab": {
      "provenance": [],
      "include_colab_link": true
    }
  },
  "cells": [
    {
      "cell_type": "markdown",
      "metadata": {
        "id": "view-in-github",
        "colab_type": "text"
      },
      "source": [
        "<a href=\"https://colab.research.google.com/github/RAFASOLIS/DevopsCaso1/blob/master/Copy_of_DataFrames_y_Data_pipelines_en_Spark_11Marzo.ipynb\" target=\"_parent\"><img src=\"https://colab.research.google.com/assets/colab-badge.svg\" alt=\"Open In Colab\"/></a>"
      ]
    },
    {
      "cell_type": "markdown",
      "metadata": {
        "id": "D6arVaitev9k"
      },
      "source": [
        "## **Dataframes y Data pipelines en Spark**\n",
        "### **Entornos Big Data y Cloud.**\n",
        "\n",
        "**Autor**: \n",
        "\n",
        "*Por* **Juan Bautista Tomás Gabarrón**.\n",
        "\n",
        "**Alumno**:  *Rafael Solís López*.\n"
      ]
    },
    {
      "cell_type": "markdown",
      "metadata": {
        "id": "GF5GZxwcBBoJ"
      },
      "source": [
        "\n",
        "**Recordatorio: Introducción a NoteBook**\n",
        "\n",
        "\n",
        "“Google Colab” es una herramienta para escribir y ejecutar código Python en la\n",
        "nube de Google. También es posible incluir texto enriquecido, “links” e\n",
        "imágenes. En caso de necesitar altas prestaciones de cómputo, el entorno\n",
        "permite configurar algunas propiedades del equipo sobre el que se ejecuta el\n",
        "código. En definitiva, el uso de “Google Colab” permite disponer de un entorno para llevar a cabo tareas que serían difíciles de realizar en un equipo personal. Por otro lado, siguiendo la idea de “Drive”, “Google Colab” brinda la opción de compartir los códigos realizados lo que es ideal para trabajos en equipo.\n",
        "\n",
        "Este tutorial es una guía que comprende varias etapas, esto es, desde la carga de un conjunto de datos hasta el análisis descriptivo de su contenido. Como verás, este cuaderno permite ejecutar celdas precodificadas y ver los resultados directamente sobre la misma celda. Es importante tener en cuenta que las celdas han de ejecutarse consecutivamente, ya que en caso de saltar alguna el programa podría lanzar un error.\n",
        "\n",
        "*IMPORTANTE*\n",
        "\n",
        "Es obligatorio abrir el cuaderno haciendo click en la opción \"Abrir en modo de ensayo\" (draft mode), arriba a la izquierda, en el menú Archivo. De lo contrario, no será posible ejecutar el contenido. \n",
        "\n",
        "Por otro lado, si al ejecutar aparece el siguiente mensaje: \"Advertencia: Este cuaderno no lo ha creado Google.\", no has de preocuparte, es normal. Tan solo hay que pulsar en la opción \"Ejecutar de todos modos\".\n",
        "\n",
        "*POR ÚLTIMO*\n",
        "\n",
        "Para ejecutar cada celda tan solo hay que hacer click sobre el botón de play de cada una. Si vemos hastags (#), se corresponden con comentarios que no van a tener influencia en la ejecución del script. También se puede pinchar sobre cada celda y hacer \"ctrl+enter\" (cmd+enter en Mac) desde el teclado.\n",
        "\n",
        "Al ejecutar la celda, verás la salida debajo, incluyendo los posibles errores (si los hubiera) así como las impresiones por pantalla realizadas por el código en la misma celda."
      ]
    },
    {
      "cell_type": "markdown",
      "metadata": {
        "id": "phaga9kDY6AF"
      },
      "source": [
        "## **ÍNDICE**\n"
      ]
    },
    {
      "cell_type": "markdown",
      "metadata": {
        "id": "Ny9tgvVapCqc"
      },
      "source": [
        "1. Primeros pasos. \n",
        "\n",
        "2. Preparación de DataFrames para SparK ML. \n",
        "  \n",
        "3. Pipelines en Spark.\n",
        "\n",
        "4. Pipelines con Machine Learning.\n",
        "\n",
        "5. Métricas de rendimiento para la evaluación de los modelos de aprendizaje supervisado.\n",
        "\n",
        "6. Validación de modelos.\n",
        "\n",
        "*NOTA*: en este tutorial vamos a entender los fundamentas de Spark:MLlib para resolver problemas de Machine Learning utilizando MLlib de Spark. Vamos a aprender a preparar los datos de cara al entrenamiento del modelo, así como configurar los pipelines para sacarle el mayor partido al flujo de procesamiento y estudiaremos finalmente cómo usar Spark algunas funciones para validar los modelos entrenados."
      ]
    },
    {
      "cell_type": "markdown",
      "metadata": {
        "id": "vGeuySu9X9xU"
      },
      "source": [
        "##**1. PRIMEROS PASOS**"
      ]
    },
    {
      "cell_type": "markdown",
      "metadata": {
        "id": "aosumELxpCqc"
      },
      "source": [
        "¿Qué es MLlib? MLlib o Spark MLlib es la librería de Machine Learning (ML) de Apache Spark. El framework de computación distribuida que incorpora esta librería permite hacer uso de una serie de algoritmos de Machine Learning.\n",
        "\n",
        "Lo interesante de todo esto, es que los algoritmos de Machine Learning que están implementados dentro de MLlib pueden ser escalados y paralelizados, aprovechando toda la base de Spark.\n",
        "\n",
        "Dentro de MLlib podemos encontrar dos APIs:\n",
        "\n",
        "*   La API principal o Spark ML, basada en DataFrames, que se encuentra en el paquete ml \n",
        "*   Y la API original o Spark MLlib, que hace uso de RDDs y esta dentro del paquete mllib (está en modo mantenimiento y es posible que desaparezca en futuras versiones de Spark).\n",
        "\n",
        "El cambio de pasar de API basada en RDDs a otra basada en DataFrames, se debe a que, como hemos visto, éstos últimos son más rápidos y fáciles de manejar.\n",
        "\n",
        "En MLlib contamos con las siguientes herramientas:\n",
        "\n",
        "*   **Algoritmos de ML**: son el core de MLlib. Están incluidos los algoritmos de machine learning más comunes: Clasificadores, Regresores, Clustering y Filtros Colaborativos.\n",
        "*   **Featurization**: herramienta para extraer, seleccionar y transformar variables.\n",
        "*   **Pipelines**: otra herramienta para construir, evaluar y optimizar las pipelines de ML.\n",
        "*   **Persistence**: para guardar y cargar algoritmos, modelos y pipelines.\n",
        "*   **Utilities**: utilidades de álgebra lineal, estadística y manejo de datos.\n",
        "\n",
        "Con este cuaderno (o notebook) vamos a trabajar con Spark en Google Colaboratory, por lo que los primeros pasos son siempre los mismos (instalación junto con Hadoop, paquetes pyspark y findspark, importación de variables de entorno y generación de sesión Spark), como se muestra debajo. Para cualquier otro proyecto que decidas emprender utilizando Spark junto con MLlib puedes directamente copiar y pegar la siguiente celda."
      ]
    },
    {
      "cell_type": "code",
      "metadata": {
        "id": "5Wf76hHtnAgS",
        "colab": {
          "base_uri": "https://localhost:8080/"
        },
        "outputId": "5adaa9d8-7359-45cd-fc90-faf9a819671a"
      },
      "source": [
        "# Instalamos Apache Spark con Hadoop\n",
        "!wget -q https://dlcdn.apache.org/spark/spark-3.2.3/spark-3.2.3-bin-hadoop3.2.tgz\n",
        "!tar xf spark-3.2.3-bin-hadoop3.2.tgz\n",
        "\n",
        "\n",
        "# Utilizamos pip para instalar los paquetes de Python para trabajar con Spark\n",
        "!pip install findspark # FindSpark\n",
        "!pip install pyspark   # Spark\n",
        "\n",
        "#Inicializamos las variables de entorno con sus valores correspondientes\n",
        "import os\n",
        "os.environ[\"JAVA_HOME\"] = \"/usr/lib/jvm/default-java\"\n",
        "os.environ[\"SPARK_HOME\"] = \"/content/spark-3.2.3-bin-hadoop3.2\"\n",
        "\n",
        "\n",
        "#Inicializamos las variables de entorno con sus valores correspondientes\n",
        "import os\n",
        "os.environ[\"JAVA_HOME\"] = \"/usr/lib/jvm/default-java\" \n",
        "os.environ[\"SPARK_HOME\"] = \"/content/spark-3.2.2-bin-hadoop2.7\"\n",
        "\n",
        "#Indicamos a PySpark donde está Spark (variable de entorno)\n",
        "import findspark\n",
        "findspark.init(\"spark-3.2.3-bin-hadoop3.2\")#SPARK_HOME\n",
        "\n",
        "#Creamos una sesión de Spark para poder comenzar\n",
        "from pyspark.sql import SparkSession\n",
        "spark = SparkSession.builder \\\n",
        "    .master(\"local[*]\") \\\n",
        "    .appName(\"Ejemplo Machine Learning PySpark\") \\\n",
        "    .config(\"spark.sql.execution.arrow.enabled\", \"true\") \\\n",
        "    .getOrCreate()\n",
        "\n",
        "    "
      ],
      "execution_count": 1,
      "outputs": [
        {
          "output_type": "stream",
          "name": "stdout",
          "text": [
            "Looking in indexes: https://pypi.org/simple, https://us-python.pkg.dev/colab-wheels/public/simple/\n",
            "Collecting findspark\n",
            "  Downloading findspark-2.0.1-py2.py3-none-any.whl (4.4 kB)\n",
            "Installing collected packages: findspark\n",
            "Successfully installed findspark-2.0.1\n",
            "Looking in indexes: https://pypi.org/simple, https://us-python.pkg.dev/colab-wheels/public/simple/\n",
            "Collecting pyspark\n",
            "  Downloading pyspark-3.3.1.tar.gz (281.4 MB)\n",
            "\u001b[K     |████████████████████████████████| 281.4 MB 41 kB/s \n",
            "\u001b[?25hCollecting py4j==0.10.9.5\n",
            "  Downloading py4j-0.10.9.5-py2.py3-none-any.whl (199 kB)\n",
            "\u001b[K     |████████████████████████████████| 199 kB 57.8 MB/s \n",
            "\u001b[?25hBuilding wheels for collected packages: pyspark\n",
            "  Building wheel for pyspark (setup.py) ... \u001b[?25l\u001b[?25hdone\n",
            "  Created wheel for pyspark: filename=pyspark-3.3.1-py2.py3-none-any.whl size=281845512 sha256=52142f32c88ceb21c1e0bb8bce7fcd4d5b902875fac65a97eb6e22fa0019b233\n",
            "  Stored in directory: /root/.cache/pip/wheels/43/dc/11/ec201cd671da62fa9c5cc77078235e40722170ceba231d7598\n",
            "Successfully built pyspark\n",
            "Installing collected packages: py4j, pyspark\n",
            "Successfully installed py4j-0.10.9.5 pyspark-3.3.1\n"
          ]
        }
      ]
    },
    {
      "cell_type": "markdown",
      "metadata": {
        "id": "pmYO6PH8fJbO"
      },
      "source": [
        "Como hemos podido ver a lo largo del curso, un proyecto de Ciencia de Datos normalmente involucra las siguientes fases: preprocesar los datos, seleccionar las variables de entrada, el entrenamiento del modelo y la correspondiente evaluación de los resultados. A todo esto lo denominamos el **ciclo de vida** de la Ciencia de Datos. Lo que vamos a ver en este tutorial es cómo construir dicho ciclo de vida mediante Apache Spark. "
      ]
    },
    {
      "cell_type": "markdown",
      "metadata": {
        "id": "g5E3Cde2B7Mk"
      },
      "source": [
        "##**2. PREPARACIÓN DE DATAFRAMES PARA SPARK MLLIB.**"
      ]
    },
    {
      "cell_type": "markdown",
      "metadata": {
        "id": "v_xiNPFhpCqh"
      },
      "source": [
        "Con el fin de trabajar con los algoritmos de Machine Learning de Spark, primero hemos de preparar los datos para que puedan ser procesados después. IMPORTANTE: los algoritmos de Machine Learning de Spark ML, trabajan sólo con datos en formato numérico, con lo cual, es necesario convertirlos a formato numérico. Es decir, cualquier variable de tigo categórico deberá tener su contrapartida numérica.\n",
        "\n",
        "A continuación podemos ver algunos métodos que se pueden usar para transformar variables:\n",
        "\n",
        "*  [`Vector Assembler`](http://spark.apache.org/docs/latest/ml-features.html#vectorassembler): este método permite combinar una conjunto de columnas en una sola columna (vector). Esto es debido a que los algoritmos de Machine Learning aceptan un DataFrame donde las variables de entrada están en una sola lista o array, en contraposición a varias columnas. Pasaremos de tener varias columnas de entrada y una de salida, a una sola columna de entrada (con todos los valores agrupados de las columnas) y una de salida (que es lo que debe dar a la salida el modelo, para todoas esas entradas).\n",
        "\n",
        "* [`StringIndexer`](http://spark.apache.org/docs/latest/ml-features.html#stringindexer): este método asigna un número entero a cada posible categoría, dando el valor cero a la categoría que más veces aparece en el dataset, 1 a la siguiente y así sucesivamente. Para ello, hay que seguir dos pasos: 1) tenemos que indicarle la columna que queremos indexar y 2) indicar el nombre de la columna de salida. En los metadatos del modelo se almacena el esquema usado para la conversión en caso de que deseemos deshacer la operación. Para ello, podemos usar [`IndexToString()`](http://spark.apache.org/docs/latest/ml-features.html#indextostring).\n",
        "\n",
        "* [`OneHotEncoder`](http://spark.apache.org/docs/latest/ml-features.html#onehotencoder): este método asigna una característica categórica, representada como un índice de etiqueta, a un vector binario con un solo valor, como máximo, que indica la presencia de un valor de característica específico entre el conjunto de todos los valores de características. Esta codificación permite a los algoritmos que esperan características continuas, como la regresión logística, utilizar características categóricas. Para los datos de entrada de tipo cadena, es habitual codificar las características categóricas utilizando primero [`StringIndexer`](http://spark.apache.org/docs/latest/ml-features.html#stringindexer).\n",
        "\n",
        "  Estas operaciones normalmente tienen lugar al final de la etapa de preprocesamiento de los datos, justo antes de pasarle los datos de entrenamiento al método de Machine Learning. \n",
        "\n",
        "Para ilustrar los distintos ejemplos, vamos a trabajar con un problema de  aprendizaje supervisado basado en clasificar un paciente de Hospital como que va a fallecer (1) o no (0) e función de las características de su diagnóstico al ingresar. En primer lugar, nos descargaremos los datos para trabajar. Posteriormente, indexaremos las variables de entrada que se encuentran en formato *string*, y después uniremos las variables de entrada en una lista en una nueva columna, usando para ello `vectorAssembler'. Finalmente, mostramos sólo estas dos columnas generadas, una con la variable de salida en formato numérico y otra con las variables de entrada agrupadas.\n"
      ]
    },
    {
      "cell_type": "code",
      "metadata": {
        "id": "ox04GuFQpCqi",
        "colab": {
          "base_uri": "https://localhost:8080/"
        },
        "outputId": "e2392224-c60f-493f-d550-fe5aa2c548ea"
      },
      "source": [
        "#Nos descargamos los ficheros de datos en Google Colaboratory \n",
        "!gdown --id '1xnz8qqmzC6h-B0Z0AzRI2RxRMvcwthbS' -O input_X.csv\n",
        "!gdown --id '1WXIYAWovVloWkxB-zuMSTY2ejpaz4-Hd' -O output_Y.csv\n",
        "\n",
        "#Vamos a mostrar la cabecera de los ficheros y dos filas, para comprobar\n",
        "#que se han bajado correctamente.\n",
        "!head -3 input_X.csv\n",
        "!head -3 output_Y.csv\n",
        "\n",
        "#Leemos el fichero con las variables de entrada\n",
        "dfX = spark.read.csv('input_X.csv',inferSchema=True, header=True, sep=';')\n",
        "#Leemos el fichero con la variable de salida\n",
        "dfY = spark.read.csv('output_Y.csv',inferSchema=True, header=True, sep=';')\n",
        "\n",
        "#Unimos los dos DataFrame\n",
        "#df=dfX.join(dfY, dfX._c0 == dfY._c0).drop('_c0')\n",
        "df=dfX.join(dfY).drop('encounter_id', 'patient_id', '_c1')\n",
        "\n",
        "#Eliminamos la columna que indica el número de instancia\n",
        "dfX=dfX.drop('encounter_id', 'patient_id', '_c1')\n",
        "dfY=dfY.drop('encounter_id', 'patient_id', '_c1')\n",
        "\n",
        "#Preprocesamos los datos para ser utilizados en un algoritmo de ML\n",
        "from pyspark.ml.feature import StringIndexer\n",
        "from pyspark.ml.feature import VectorAssembler\n",
        "from pyspark.ml.feature import OneHotEncoder\n",
        "from pyspark.sql.functions import col\n",
        "\n",
        "from pyspark.ml import Pipeline\n",
        "\n",
        "#Indexamos todas las variables de entrada que tienen algún string\n",
        "indexada = StringIndexer(inputCol=\"ethnicity\", outputCol=\"ethnicity_index\").fit(df).transform(df)\n",
        "indexada2 = StringIndexer(inputCol=\"gender\", outputCol=\"gender_index\").fit(indexada).transform(indexada)\n",
        "indexada3 = StringIndexer(inputCol=\"icu_admit_source\", outputCol=\"icu_admit_source_index\").fit(indexada2).transform(indexada2)\n",
        "indexada4 = StringIndexer(inputCol=\"icu_stay_type\", outputCol=\"icu_stay_type_index\").fit(indexada3).transform(indexada3)\n",
        "indexada5 = StringIndexer(inputCol=\"icu_type\", outputCol=\"icu_type_index\").fit(indexada4).transform(indexada4)\n",
        "indexada6 = StringIndexer(inputCol=\"apache_3j_bodysystem\", outputCol=\"apache_3j_bodysystem_index\").fit(indexada5).transform(indexada5)\n",
        "indexada7 = StringIndexer(inputCol=\"apache_2_bodysystem\", outputCol=\"apache_2_bodysystem_index\").fit(indexada6).transform(indexada6)\n",
        "\n",
        "#Borramos columnas originales\n",
        "indexada8 = indexada7.drop(\"ethnicity\", \"gender\", \"icu_admit_source\", \"icu_stay_type\", \"icu_type\", \"apache_3j_bodysystem\", \"apache_2_bodysystem\")\n",
        "dfOut = indexada8.withColumnRenamed(\"ethnicity_index\", \"ethnicity\")\\\n",
        "              .withColumnRenamed(\"gender_index\", \"gender\")\\\n",
        "              .withColumnRenamed(\"icu_admit_source_index\", \"icu_admit_source\")\\\n",
        "              .withColumnRenamed(\"icu_stay_type_index\", \"icu_stay_type\")\\\n",
        "              .withColumnRenamed(\"icu_type_index\", \"icu_type\")\\\n",
        "              .withColumnRenamed(\"apache_3j_bodysystem_index\", \"apache_3j_bodysystem\")\\\n",
        "              .withColumnRenamed(\"apache_2_bodysystem_index\", \"apache_2_bodysystem\")\n",
        "\n",
        "dfOut.show(15)\n",
        "\n",
        "#Unimos las variables de entrada con VectorAssembler\n",
        "assembler = VectorAssembler(inputCols=dfX.columns,outputCol=\"atributos\")\n",
        "datos = assembler.transform(dfOut)\n",
        "datos.select('atributos','hospital_death').show(5)\n"
      ],
      "execution_count": 2,
      "outputs": [
        {
          "output_type": "stream",
          "name": "stdout",
          "text": [
            "/usr/local/lib/python3.8/dist-packages/gdown/cli.py:127: FutureWarning: Option `--id` was deprecated in version 4.3.1 and will be removed in 5.0. You don't need to pass it anymore to use a file ID.\n",
            "  warnings.warn(\n",
            "Downloading...\n",
            "From: https://drive.google.com/uc?id=1xnz8qqmzC6h-B0Z0AzRI2RxRMvcwthbS\n",
            "To: /content/input_X.csv\n",
            "100% 170k/170k [00:00<00:00, 82.7MB/s]\n",
            "/usr/local/lib/python3.8/dist-packages/gdown/cli.py:127: FutureWarning: Option `--id` was deprecated in version 4.3.1 and will be removed in 5.0. You don't need to pass it anymore to use a file ID.\n",
            "  warnings.warn(\n",
            "Downloading...\n",
            "From: https://drive.google.com/uc?id=1WXIYAWovVloWkxB-zuMSTY2ejpaz4-Hd\n",
            "To: /content/output_Y.csv\n",
            "100% 1.52k/1.52k [00:00<00:00, 1.91MB/s]\n",
            "encounter_id;patient_id;hospital_id;age;bmi;elective_surgery;ethnicity;gender;height;icu_admit_source;icu_id;icu_stay_type;icu_type;pre_icu_los_days;weight;apache_2_diagnosis;apache_3j_diagnosis;apache_post_operative;arf_apache;gcs_eyes_apache;gcs_motor_apache;gcs_unable_apache;gcs_verbal_apache;heart_rate_apache;intubated_apache;map_apache;resprate_apache;temp_apache;ventilated_apache;d1_diasbp_max;d1_diasbp_min;d1_diasbp_noninvasive_max;d1_diasbp_noninvasive_min;d1_heartrate_max;d1_heartrate_min;d1_mbp_max;d1_mbp_min;d1_mbp_noninvasive_max;d1_mbp_noninvasive_min;d1_resprate_max;d1_resprate_min;d1_spo2_max;d1_spo2_min;d1_sysbp_max;d1_sysbp_min;d1_sysbp_noninvasive_max;d1_sysbp_noninvasive_min;d1_temp_max;d1_temp_min;h1_diasbp_max;h1_diasbp_min;h1_diasbp_noninvasive_max;h1_diasbp_noninvasive_min;h1_heartrate_max;h1_heartrate_min;h1_mbp_max;h1_mbp_min;h1_mbp_noninvasive_max;h1_mbp_noninvasive_min;h1_resprate_max;h1_resprate_min;h1_spo2_max;h1_spo2_min;h1_sysbp_max;h1_sysbp_min;h1_sysbp_noninvasive_max;h1_sysbp_noninvasive_min;d1_glucose_max;d1_glucose_min;d1_potassium_max;d1_potassium_min;apache_4a_hospital_death_prob;apache_4a_icu_death_prob;aids;cirrhosis;diabetes_mellitus;hepatic_failure;immunosuppression;leukemia;lymphoma;solid_tumor_with_metastasis;apache_3j_bodysystem;apache_2_bodysystem\n",
            "66154;25312;118;68;22.73;0;Caucasian;M;180.3;Floor;92;admit;CTICU;0.541666667;73.9;113;502.01;0;0;3;6;0;4;118;0;40;36;39.3;0;68;37;68;37;119;72;89;46;89;46;34;10;100;74;131;73;131;73;39.9;37.2;68;63;68;63;119;108;86;85;86;85;26;18;100;74;131;115;131;115;168;109;4;3.4;0.1;0.05;0;0;1;0;0;0;0;0;Sepsis;Cardiovascular\n",
            "114252;59342;81;77;27.42;0;Caucasian;F;160;Floor;90;admit;Med-Surg ICU;0.927777778;70.2;108;203.01;0;0;1;3;0;1;120;0;46;33;35.1;1;95;31;95;31;118;72;120;38;120;38;32;12;100;70;159;67;159;67;36.3;35.1;61;48;61;48;114;100;85;57;85;57;31;28;95;70;95;71;95;71;145;128;4.2;3.8;0.47;0.29;0;0;1;0;0;0;0;0;Respiratory;Respiratory\n",
            "hospital_death\n",
            "0\n",
            "0\n",
            "+-----------+---+-----+----------------+------+------+----------------+------+------------------+-------------------+---------------------+----------+---------------+----------------+-----------------+-----------------+-----------------+----------------+----------+---------------+-----------+-----------------+-------------+-------------+-------------------------+-------------------------+----------------+----------------+----------+----------+----------------------+----------------------+---------------+---------------+-----------+-----------+------------+------------+------------------------+------------------------+-----------+-----------+-------------+-------------+-------------------------+-------------------------+----------------+----------------+----------+----------+----------------------+----------------------+---------------+---------------+-----------+-----------+------------+------------+------------------------+------------------------+--------------+--------------+----------------+----------------+-----------------------------+------------------------+----+---------+-----------------+---------------+-----------------+--------+--------+---------------------------+--------------+---------+------+----------------+-------------+--------+--------------------+-------------------+\n",
            "|hospital_id|age|  bmi|elective_surgery|height|icu_id|pre_icu_los_days|weight|apache_2_diagnosis|apache_3j_diagnosis|apache_post_operative|arf_apache|gcs_eyes_apache|gcs_motor_apache|gcs_unable_apache|gcs_verbal_apache|heart_rate_apache|intubated_apache|map_apache|resprate_apache|temp_apache|ventilated_apache|d1_diasbp_max|d1_diasbp_min|d1_diasbp_noninvasive_max|d1_diasbp_noninvasive_min|d1_heartrate_max|d1_heartrate_min|d1_mbp_max|d1_mbp_min|d1_mbp_noninvasive_max|d1_mbp_noninvasive_min|d1_resprate_max|d1_resprate_min|d1_spo2_max|d1_spo2_min|d1_sysbp_max|d1_sysbp_min|d1_sysbp_noninvasive_max|d1_sysbp_noninvasive_min|d1_temp_max|d1_temp_min|h1_diasbp_max|h1_diasbp_min|h1_diasbp_noninvasive_max|h1_diasbp_noninvasive_min|h1_heartrate_max|h1_heartrate_min|h1_mbp_max|h1_mbp_min|h1_mbp_noninvasive_max|h1_mbp_noninvasive_min|h1_resprate_max|h1_resprate_min|h1_spo2_max|h1_spo2_min|h1_sysbp_max|h1_sysbp_min|h1_sysbp_noninvasive_max|h1_sysbp_noninvasive_min|d1_glucose_max|d1_glucose_min|d1_potassium_max|d1_potassium_min|apache_4a_hospital_death_prob|apache_4a_icu_death_prob|aids|cirrhosis|diabetes_mellitus|hepatic_failure|immunosuppression|leukemia|lymphoma|solid_tumor_with_metastasis|hospital_death|ethnicity|gender|icu_admit_source|icu_stay_type|icu_type|apache_3j_bodysystem|apache_2_bodysystem|\n",
            "+-----------+---+-----+----------------+------+------+----------------+------+------------------+-------------------+---------------------+----------+---------------+----------------+-----------------+-----------------+-----------------+----------------+----------+---------------+-----------+-----------------+-------------+-------------+-------------------------+-------------------------+----------------+----------------+----------+----------+----------------------+----------------------+---------------+---------------+-----------+-----------+------------+------------+------------------------+------------------------+-----------+-----------+-------------+-------------+-------------------------+-------------------------+----------------+----------------+----------+----------+----------------------+----------------------+---------------+---------------+-----------+-----------+------------+------------+------------------------+------------------------+--------------+--------------+----------------+----------------+-----------------------------+------------------------+----+---------+-----------------+---------------+-----------------+--------+--------+---------------------------+--------------+---------+------+----------------+-------------+--------+--------------------+-------------------+\n",
            "|        118| 68|22.73|               0| 180.3|    92|     0.541666667|  73.9|               113|             502.01|                    0|         0|              3|               6|                0|                4|              118|               0|        40|             36|       39.3|                0|           68|           37|                       68|                       37|             119|              72|        89|        46|                    89|                    46|             34|             10|        100|         74|         131|          73|                     131|                    73.0|       39.9|       37.2|           68|           63|                       68|                       63|             119|             108|        86|        85|                    86|                    85|             26|             18|        100|         74|         131|         115|                     131|                     115|           168|           109|             4.0|             3.4|                          0.1|                    0.05|   0|        0|                1|              0|                0|       0|       0|                          0|             0|      0.0|   0.0|             2.0|          0.0|     3.0|                 2.0|                0.0|\n",
            "|        118| 68|22.73|               0| 180.3|    92|     0.541666667|  73.9|               113|             502.01|                    0|         0|              3|               6|                0|                4|              118|               0|        40|             36|       39.3|                0|           68|           37|                       68|                       37|             119|              72|        89|        46|                    89|                    46|             34|             10|        100|         74|         131|          73|                     131|                    73.0|       39.9|       37.2|           68|           63|                       68|                       63|             119|             108|        86|        85|                    86|                    85|             26|             18|        100|         74|         131|         115|                     131|                     115|           168|           109|             4.0|             3.4|                          0.1|                    0.05|   0|        0|                1|              0|                0|       0|       0|                          0|             0|      0.0|   0.0|             2.0|          0.0|     3.0|                 2.0|                0.0|\n",
            "|        118| 68|22.73|               0| 180.3|    92|     0.541666667|  73.9|               113|             502.01|                    0|         0|              3|               6|                0|                4|              118|               0|        40|             36|       39.3|                0|           68|           37|                       68|                       37|             119|              72|        89|        46|                    89|                    46|             34|             10|        100|         74|         131|          73|                     131|                    73.0|       39.9|       37.2|           68|           63|                       68|                       63|             119|             108|        86|        85|                    86|                    85|             26|             18|        100|         74|         131|         115|                     131|                     115|           168|           109|             4.0|             3.4|                          0.1|                    0.05|   0|        0|                1|              0|                0|       0|       0|                          0|             0|      0.0|   0.0|             2.0|          0.0|     3.0|                 2.0|                0.0|\n",
            "|        118| 68|22.73|               0| 180.3|    92|     0.541666667|  73.9|               113|             502.01|                    0|         0|              3|               6|                0|                4|              118|               0|        40|             36|       39.3|                0|           68|           37|                       68|                       37|             119|              72|        89|        46|                    89|                    46|             34|             10|        100|         74|         131|          73|                     131|                    73.0|       39.9|       37.2|           68|           63|                       68|                       63|             119|             108|        86|        85|                    86|                    85|             26|             18|        100|         74|         131|         115|                     131|                     115|           168|           109|             4.0|             3.4|                          0.1|                    0.05|   0|        0|                1|              0|                0|       0|       0|                          0|             0|      0.0|   0.0|             2.0|          0.0|     3.0|                 2.0|                0.0|\n",
            "|        118| 68|22.73|               0| 180.3|    92|     0.541666667|  73.9|               113|             502.01|                    0|         0|              3|               6|                0|                4|              118|               0|        40|             36|       39.3|                0|           68|           37|                       68|                       37|             119|              72|        89|        46|                    89|                    46|             34|             10|        100|         74|         131|          73|                     131|                    73.0|       39.9|       37.2|           68|           63|                       68|                       63|             119|             108|        86|        85|                    86|                    85|             26|             18|        100|         74|         131|         115|                     131|                     115|           168|           109|             4.0|             3.4|                          0.1|                    0.05|   0|        0|                1|              0|                0|       0|       0|                          0|             0|      0.0|   0.0|             2.0|          0.0|     3.0|                 2.0|                0.0|\n",
            "|        118| 68|22.73|               0| 180.3|    92|     0.541666667|  73.9|               113|             502.01|                    0|         0|              3|               6|                0|                4|              118|               0|        40|             36|       39.3|                0|           68|           37|                       68|                       37|             119|              72|        89|        46|                    89|                    46|             34|             10|        100|         74|         131|          73|                     131|                    73.0|       39.9|       37.2|           68|           63|                       68|                       63|             119|             108|        86|        85|                    86|                    85|             26|             18|        100|         74|         131|         115|                     131|                     115|           168|           109|             4.0|             3.4|                          0.1|                    0.05|   0|        0|                1|              0|                0|       0|       0|                          0|             0|      0.0|   0.0|             2.0|          0.0|     3.0|                 2.0|                0.0|\n",
            "|        118| 68|22.73|               0| 180.3|    92|     0.541666667|  73.9|               113|             502.01|                    0|         0|              3|               6|                0|                4|              118|               0|        40|             36|       39.3|                0|           68|           37|                       68|                       37|             119|              72|        89|        46|                    89|                    46|             34|             10|        100|         74|         131|          73|                     131|                    73.0|       39.9|       37.2|           68|           63|                       68|                       63|             119|             108|        86|        85|                    86|                    85|             26|             18|        100|         74|         131|         115|                     131|                     115|           168|           109|             4.0|             3.4|                          0.1|                    0.05|   0|        0|                1|              0|                0|       0|       0|                          0|             0|      0.0|   0.0|             2.0|          0.0|     3.0|                 2.0|                0.0|\n",
            "|        118| 68|22.73|               0| 180.3|    92|     0.541666667|  73.9|               113|             502.01|                    0|         0|              3|               6|                0|                4|              118|               0|        40|             36|       39.3|                0|           68|           37|                       68|                       37|             119|              72|        89|        46|                    89|                    46|             34|             10|        100|         74|         131|          73|                     131|                    73.0|       39.9|       37.2|           68|           63|                       68|                       63|             119|             108|        86|        85|                    86|                    85|             26|             18|        100|         74|         131|         115|                     131|                     115|           168|           109|             4.0|             3.4|                          0.1|                    0.05|   0|        0|                1|              0|                0|       0|       0|                          0|             0|      0.0|   0.0|             2.0|          0.0|     3.0|                 2.0|                0.0|\n",
            "|        118| 68|22.73|               0| 180.3|    92|     0.541666667|  73.9|               113|             502.01|                    0|         0|              3|               6|                0|                4|              118|               0|        40|             36|       39.3|                0|           68|           37|                       68|                       37|             119|              72|        89|        46|                    89|                    46|             34|             10|        100|         74|         131|          73|                     131|                    73.0|       39.9|       37.2|           68|           63|                       68|                       63|             119|             108|        86|        85|                    86|                    85|             26|             18|        100|         74|         131|         115|                     131|                     115|           168|           109|             4.0|             3.4|                          0.1|                    0.05|   0|        0|                1|              0|                0|       0|       0|                          0|             1|      0.0|   0.0|             2.0|          0.0|     3.0|                 2.0|                0.0|\n",
            "|        118| 68|22.73|               0| 180.3|    92|     0.541666667|  73.9|               113|             502.01|                    0|         0|              3|               6|                0|                4|              118|               0|        40|             36|       39.3|                0|           68|           37|                       68|                       37|             119|              72|        89|        46|                    89|                    46|             34|             10|        100|         74|         131|          73|                     131|                    73.0|       39.9|       37.2|           68|           63|                       68|                       63|             119|             108|        86|        85|                    86|                    85|             26|             18|        100|         74|         131|         115|                     131|                     115|           168|           109|             4.0|             3.4|                          0.1|                    0.05|   0|        0|                1|              0|                0|       0|       0|                          0|             0|      0.0|   0.0|             2.0|          0.0|     3.0|                 2.0|                0.0|\n",
            "|        118| 68|22.73|               0| 180.3|    92|     0.541666667|  73.9|               113|             502.01|                    0|         0|              3|               6|                0|                4|              118|               0|        40|             36|       39.3|                0|           68|           37|                       68|                       37|             119|              72|        89|        46|                    89|                    46|             34|             10|        100|         74|         131|          73|                     131|                    73.0|       39.9|       37.2|           68|           63|                       68|                       63|             119|             108|        86|        85|                    86|                    85|             26|             18|        100|         74|         131|         115|                     131|                     115|           168|           109|             4.0|             3.4|                          0.1|                    0.05|   0|        0|                1|              0|                0|       0|       0|                          0|             0|      0.0|   0.0|             2.0|          0.0|     3.0|                 2.0|                0.0|\n",
            "|        118| 68|22.73|               0| 180.3|    92|     0.541666667|  73.9|               113|             502.01|                    0|         0|              3|               6|                0|                4|              118|               0|        40|             36|       39.3|                0|           68|           37|                       68|                       37|             119|              72|        89|        46|                    89|                    46|             34|             10|        100|         74|         131|          73|                     131|                    73.0|       39.9|       37.2|           68|           63|                       68|                       63|             119|             108|        86|        85|                    86|                    85|             26|             18|        100|         74|         131|         115|                     131|                     115|           168|           109|             4.0|             3.4|                          0.1|                    0.05|   0|        0|                1|              0|                0|       0|       0|                          0|             0|      0.0|   0.0|             2.0|          0.0|     3.0|                 2.0|                0.0|\n",
            "|        118| 68|22.73|               0| 180.3|    92|     0.541666667|  73.9|               113|             502.01|                    0|         0|              3|               6|                0|                4|              118|               0|        40|             36|       39.3|                0|           68|           37|                       68|                       37|             119|              72|        89|        46|                    89|                    46|             34|             10|        100|         74|         131|          73|                     131|                    73.0|       39.9|       37.2|           68|           63|                       68|                       63|             119|             108|        86|        85|                    86|                    85|             26|             18|        100|         74|         131|         115|                     131|                     115|           168|           109|             4.0|             3.4|                          0.1|                    0.05|   0|        0|                1|              0|                0|       0|       0|                          0|             0|      0.0|   0.0|             2.0|          0.0|     3.0|                 2.0|                0.0|\n",
            "|        118| 68|22.73|               0| 180.3|    92|     0.541666667|  73.9|               113|             502.01|                    0|         0|              3|               6|                0|                4|              118|               0|        40|             36|       39.3|                0|           68|           37|                       68|                       37|             119|              72|        89|        46|                    89|                    46|             34|             10|        100|         74|         131|          73|                     131|                    73.0|       39.9|       37.2|           68|           63|                       68|                       63|             119|             108|        86|        85|                    86|                    85|             26|             18|        100|         74|         131|         115|                     131|                     115|           168|           109|             4.0|             3.4|                          0.1|                    0.05|   0|        0|                1|              0|                0|       0|       0|                          0|             0|      0.0|   0.0|             2.0|          0.0|     3.0|                 2.0|                0.0|\n",
            "|        118| 68|22.73|               0| 180.3|    92|     0.541666667|  73.9|               113|             502.01|                    0|         0|              3|               6|                0|                4|              118|               0|        40|             36|       39.3|                0|           68|           37|                       68|                       37|             119|              72|        89|        46|                    89|                    46|             34|             10|        100|         74|         131|          73|                     131|                    73.0|       39.9|       37.2|           68|           63|                       68|                       63|             119|             108|        86|        85|                    86|                    85|             26|             18|        100|         74|         131|         115|                     131|                     115|           168|           109|             4.0|             3.4|                          0.1|                    0.05|   0|        0|                1|              0|                0|       0|       0|                          0|             0|      0.0|   0.0|             2.0|          0.0|     3.0|                 2.0|                0.0|\n",
            "+-----------+---+-----+----------------+------+------+----------------+------+------------------+-------------------+---------------------+----------+---------------+----------------+-----------------+-----------------+-----------------+----------------+----------+---------------+-----------+-----------------+-------------+-------------+-------------------------+-------------------------+----------------+----------------+----------+----------+----------------------+----------------------+---------------+---------------+-----------+-----------+------------+------------+------------------------+------------------------+-----------+-----------+-------------+-------------+-------------------------+-------------------------+----------------+----------------+----------+----------+----------------------+----------------------+---------------+---------------+-----------+-----------+------------+------------+------------------------+------------------------+--------------+--------------+----------------+----------------+-----------------------------+------------------------+----+---------+-----------------+---------------+-----------------+--------+--------+---------------------------+--------------+---------+------+----------------+-------------+--------+--------------------+-------------------+\n",
            "only showing top 15 rows\n",
            "\n",
            "+--------------------+--------------+\n",
            "|           atributos|hospital_death|\n",
            "+--------------------+--------------+\n",
            "|[118.0,68.0,22.73...|             0|\n",
            "|[118.0,68.0,22.73...|             0|\n",
            "|[118.0,68.0,22.73...|             0|\n",
            "|[118.0,68.0,22.73...|             0|\n",
            "|[118.0,68.0,22.73...|             0|\n",
            "+--------------------+--------------+\n",
            "only showing top 5 rows\n",
            "\n"
          ]
        }
      ]
    },
    {
      "cell_type": "code",
      "source": [
        "from google.colab import drive\n",
        "drive.mount('/content/drive')"
      ],
      "metadata": {
        "id": "DCGzBOFN5muJ",
        "colab": {
          "base_uri": "https://localhost:8080/"
        },
        "outputId": "fed17fbb-e668-4183-ef93-4589071b53aa"
      },
      "execution_count": 3,
      "outputs": [
        {
          "output_type": "stream",
          "name": "stdout",
          "text": [
            "Mounted at /content/drive\n"
          ]
        }
      ]
    },
    {
      "cell_type": "markdown",
      "metadata": {
        "id": "XSDoXaW_CL9q"
      },
      "source": [
        "##**3. PIPELINES EN SPARK**"
      ]
    },
    {
      "cell_type": "markdown",
      "metadata": {
        "id": "IXCJ31nFC2Rm"
      },
      "source": [
        "Todo proyecto de Ciencia de Datos suele implicar el preprocesado de los datos, la selección de variables de entrada, entrenamiento de un modelo y análisis de los resultados. Por estos motivos, tenemos que realizar una serie de transformaciones de los datos de forma secuencial: gracias a los [pipelines](https://spark.apache.org/docs/latest/ml-pipeline.html\n",
        " ) se nos hace más cómodo combinar diferentes algoritmos en un sólo flujo de trabajo. Para usar pipelines es necesario conocer algunos conceptos importantes:\n",
        "\n",
        "* DataFrame: La estructura de datos con la que vamos a trabajar y que ya deberíamos conocer. Para el que no la conozca, un DataFrame es lo más parecido a una tabla Excel en Spark.\n",
        "\n",
        "* [Transformadores](http://spark.apache.org/docs/latest/ml-features.html): Un Transformador es un algoritmo o proceso que puede transformar un DataFrame en otro DataFrame. Por ejemplo, en la sección anterior hemos visto varias transformaciones para las variables categóricas cuando hemos pasado de strings a numéricos. Otro caso de uso sería un modelo de Machine Learning que transforma un DataFrame con sólo variables de entrada en predicciones de la variable de salida. Básicamente, un Transformador es una abstracción que incluye transformaciones sobre las variables o modelos entrenados en el modelo. Técnicamente, un Transformador implementa el método `transform()`, el cual convierte un DataFrame en otro, normalmente añadiendo una o más columnas.\n",
        "\n",
        "* Estimador: Un Estimador es un algoritmo que puede ser ajustado mediante un DataFrame (o entrenado a partir de él) para producir un Transformador. Por ejemplo, un algoritmo de aprendizaje es un Estimador que se entrena (usando el método `fit()`) con un DataFrame y produce un modelo de Machine Learning, que es el que se usa para realizar la inferencia. \n",
        "\n",
        "* Pipeline: Un pipeline encadena múltiples Transformadores y Estimadores para especificar un flujo de trabajo de Machine Learning. A modo de ejemplo, podríamos añadir la indexación y el ensamblado de las variables de entrada en un pipeline y luego entrengar los datos con una regresión logística.\n",
        "\n",
        "* Parámetros: Todos los Transformadores y Estimadores comparten una interfaz común para especificar parámetros.\n",
        "\n",
        "\n",
        "Un pipeline es una secuencia de etapas, cada una de las cuales es un Transformador o un Estimador. Dichas etapas se ejecutan de forma consecutiva, y el DataFrame de entrada es alterado en cada etapa. Si una etapa es de Transformación, se usa el método `transform()` sobre el DataFrame. Para etapas de Estimación, el método `fit()` es invocado para producir un Transformador. El método `transform()` es llamado en dicho Transformador y el DataFrame para llevar a cabo la transformación.\n",
        "\n",
        "\n",
        "Partiendo del anterior ejemplo del Hospital, podríamos haber hecho todas las transformaciones usando un pipeline de la siguiente manera: \n"
      ]
    },
    {
      "cell_type": "code",
      "source": [
        "# Metemos en un array los nombres de columnas con datos categóricos\n",
        "categoricalCols = ['ethnicity', 'gender', 'icu_admit_source', 'icu_stay_type', 'icu_type', 'apache_3j_bodysystem', 'apache_2_bodysystem']\n",
        "\n",
        "# El resto de columnas tienen datos numéricos, por lo tanto, no hay que pasarles el StringIndexer\n",
        "continuousCols = [i for i in dfX.columns if i not in categoricalCols]\n",
        "\n",
        "# Generamos nuestro array de indexers, los cuales formarán parte del pipeline\n",
        "indexers = [ StringIndexer(inputCol=c, outputCol=\"{0}_indexed\".format(c), handleInvalid=\"skip\")\n",
        "                 for c in categoricalCols ]\n",
        "\n",
        "# Hacemos one-hot encoding con las columnas categorizadas previamente (mejora la eficiencia en la ejecución de Spark)\n",
        "encoders = [ OneHotEncoder(inputCol=indexer.getOutputCol(),\n",
        "              outputCol=\"{0}_encoded\".format(indexer.getOutputCol()))\n",
        "              for indexer in indexers ]\n",
        "\n",
        "# Por último usamos el assembler para unir datos de entrada en una columna (atributos) y la salida en otra columna distinta (hospital_death)\n",
        "assembler = VectorAssembler(inputCols=[encoder.getOutputCol() for encoder in encoders]\n",
        "                            + continuousCols, outputCol=\"atributos\", handleInvalid=\"skip\")\n",
        "\n",
        "# Adosamos todas las estapas del pipeline\n",
        "pipeline = Pipeline(stages=indexers + encoders + [assembler])\n",
        "\n",
        "# Aplicamos el pipeline al dataframe de datos generado y lo transformamos\n",
        "model=pipeline.fit(df)\n",
        "data = model.transform(df)\n",
        "\n",
        "# Mostramos cómo ha quedado el dataframe tras hacerlo pasar por el pipeline\n",
        "data.select('atributos','hospital_death').show(5)"
      ],
      "metadata": {
        "id": "j-OsICc9F4JV",
        "outputId": "7cbb9827-20e4-42e9-aa90-dbccd7671a98",
        "colab": {
          "base_uri": "https://localhost:8080/"
        }
      },
      "execution_count": 4,
      "outputs": [
        {
          "output_type": "stream",
          "name": "stdout",
          "text": [
            "+--------------------+--------------+\n",
            "|           atributos|hospital_death|\n",
            "+--------------------+--------------+\n",
            "|(109,[0,4,7,9,14,...|             0|\n",
            "|(109,[0,4,7,9,14,...|             0|\n",
            "|(109,[0,4,7,9,14,...|             0|\n",
            "|(109,[0,4,7,9,14,...|             0|\n",
            "|(109,[0,4,7,9,14,...|             0|\n",
            "+--------------------+--------------+\n",
            "only showing top 5 rows\n",
            "\n"
          ]
        }
      ]
    },
    {
      "cell_type": "markdown",
      "metadata": {
        "id": "ItbtlE6_IyCM"
      },
      "source": [
        "Así pues, usando pipelines, se optimiza el preprocesamiento que se realiza sobre los datos, lo cual es fundamental cuando el volumen de datos es grande. \n",
        "\n",
        "En la imagen que tenemos debajo podemos observar el esquema de pipes de Spark que se ha seguido en el ejemplo del Hospital para el preprocesamiento de los datos."
      ]
    },
    {
      "cell_type": "markdown",
      "source": [
        "![Colab1_estructure_pyspark.png](data:image/png;base64,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)\n",
        "\n"
      ],
      "metadata": {
        "id": "D3J0DJctNDYp"
      }
    },
    {
      "cell_type": "markdown",
      "metadata": {
        "id": "wow2nq8sCebk"
      },
      "source": [
        "> *Figura 1. Ejemplo de un esquema de pipelines en Apache Spark.*"
      ]
    },
    {
      "cell_type": "markdown",
      "metadata": {
        "id": "nfJIezbMM0ta"
      },
      "source": [
        "Una vez preprocesados los datos, podemos partirlos en dos conjuntos de entrenamiento y test para aplicar un algoritmo de Machine Learning así generar nuestro modelo de inferencia."
      ]
    },
    {
      "cell_type": "code",
      "metadata": {
        "id": "JD3sIYFHNAe_",
        "outputId": "e3b44571-9c22-4671-891c-ba88be5b2828",
        "colab": {
          "base_uri": "https://localhost:8080/"
        }
      },
      "source": [
        "train, test = data.select('atributos','hospital_death').randomSplit([0.7, 0.3], seed = 2020)\n",
        "print(\"DataFrame Entrenamiento: \" + str(train.count())+\" instancias.\")\n",
        "print(\"DataFrame Test: \" + str(test.count())+\" instancias.\")"
      ],
      "execution_count": 5,
      "outputs": [
        {
          "output_type": "stream",
          "name": "stdout",
          "text": [
            "DataFrame Entrenamiento: 88690 instancias.\n",
            "DataFrame Test: 37810 instancias.\n"
          ]
        }
      ]
    },
    {
      "cell_type": "markdown",
      "metadata": {
        "id": "YnfyC0wAgZub"
      },
      "source": [
        "**NOTA**: es preferible usar lo que se viene a denominar como validación cruzada, en lugar de usar entrenamiento y test. La validación cruzada o cross-validation es una técnica utilizada para evaluar los resultados de un análisis estadístico y garantizar que son independientes de la partición entre datos de entrenamiento y test. Consiste en repetir y calcular la media aritmética obtenida de las medidas de evaluación sobre diferentes particiones. Se utiliza en entornos donde el objetivo principal es la predicción y se quiere estimar la precisión de un modelo que se llevará a cabo a la práctica. Es una técnica muy utilizada en proyectos de inteligencia artificial para validar modelos generados.\n",
        "\n",
        "No obstante, en Big Data, no siempre podemos asumir el coste computacional de la validación cruzada y tendremos que usar dos conjuntos disjuntos de entrenamiento y test, que aunque tiene menos rigor estadístico, es mucho menos costosa."
      ]
    },
    {
      "cell_type": "markdown",
      "metadata": {
        "id": "eWA_MLhADGCi"
      },
      "source": [
        "##**4. PIPELINES CON MACHINE LEARNING.**"
      ]
    },
    {
      "cell_type": "markdown",
      "metadata": {
        "id": "jZp4x101r72b"
      },
      "source": [
        "Tal y como hemos podido ver hasta el momento, hemos incluido todo el preprocesamiento de nuestro conjunto de datos en un pipeline. Ahora vamos a aprender cómo se puede añadir también un algoritmo de Machine Learning para generar nuestro modelo de inferencia.\n",
        "\n",
        "Continuaremos con un ejemplo, específicamente de aprendizaje supervisado,  donde entrenaremos un clasificador de regresión logística a partir de los datos generados anteriormente gracias a nuestro pipeline.\n",
        "\n",
        "Siguiendo la terminología de Spark entrenaremos un modelo Transformador (que posee el método `transform()`) mediante un Estimador de regresión logística (que posee el método `fit()`). Es decir, pondremos a prueba un Estimador con los datos de entrenamiento y, el modelo entrenado lo usaremos como un Transformador sobre los datos de test. Dicho Transformador tomará los datos de test y los convertirá en una serie de predicciones. Dichas predicciones las usaremos para calcular la precisión del modelo y testearemos su capacidad de inferencia.\n",
        "\n",
        "\n"
      ]
    },
    {
      "cell_type": "code",
      "metadata": {
        "id": "ZKZQUkv3OZaW",
        "colab": {
          "base_uri": "https://localhost:8080/"
        },
        "outputId": "563d6124-17cb-4117-898f-995f429300b8"
      },
      "source": [
        "from pyspark.ml.classification import LogisticRegression\n",
        "#Aprendemos el Modelo de Regresión Logística\n",
        "lr = LogisticRegression(featuresCol = 'atributos', labelCol = 'hospital_death', maxIter=10)\n",
        "lrModel = lr.fit(train)\n",
        "\n",
        "#Obtenemos las predicciones sobre el conjunto de test\n",
        "predicciones = lrModel.transform(test)\n",
        "\n",
        "#Ya podemos mostrar la precisión del modelo\n",
        "from pyspark.ml.evaluation import MulticlassClassificationEvaluator\n",
        "evaluador = MulticlassClassificationEvaluator(labelCol=\"hospital_death\", metricName=\"accuracy\")\n",
        "print('Accuracy:', evaluador.evaluate(predicciones))"
      ],
      "execution_count": 6,
      "outputs": [
        {
          "output_type": "stream",
          "name": "stdout",
          "text": [
            "Accuracy: 0.950251256281407\n"
          ]
        }
      ]
    },
    {
      "cell_type": "markdown",
      "metadata": {
        "id": "hezOwjPXp5Nz"
      },
      "source": [
        "Hemos alcanzado una precisión bastante alta para el modelo. Aún así lo podemos mejorar, aunque sea ligeramente. Ahora lo que haremos será añadir al pipeline el modelo de regresión logística, así conseguimos que Spark optimice más aún el proceso. En primer lugar desglosaremos los datos en entrenamiento y test. Definiremos el pipeline y entrenaremos el modelo. Dicho modelo, con el preprocesado de datos y el clasificador, se aplicará al conjunto de test para hacer las predicciones y así poder obtener la proporción de los datos que fueron clasificados correctamente."
      ]
    },
    {
      "cell_type": "code",
      "source": [
        "#Partimos los datos (sin preprocesar)\n",
        "train, test = df.randomSplit([0.7, 0.3], seed = 2020)\n",
        "\n",
        "# Metemos en un array los nombres de columnas con datos categóricos\n",
        "categoricalCols = ['ethnicity', 'gender', 'icu_admit_source', 'icu_stay_type', 'icu_type', 'apache_3j_bodysystem', 'apache_2_bodysystem']\n",
        "\n",
        "# El resto de columnas tienen datos numéricos, por lo tanto, no hay que pasarles el StringIndexer\n",
        "continuousCols = [i for i in dfX.columns if i not in categoricalCols]\n",
        "\n",
        "# Generamos nuestro array de indexers, los cuales formarán parte del pipeline\n",
        "indexers = [ StringIndexer(inputCol=c, outputCol=\"{0}_indexed\".format(c), handleInvalid=\"skip\")\n",
        "                 for c in categoricalCols ]\n",
        "\n",
        "# Hacemos one-hot encoding con las columnas categorizadas previamente (mejora la eficiencia en la ejecución de Spark)\n",
        "encoders = [ OneHotEncoder(inputCol=indexer.getOutputCol(),\n",
        "              outputCol=\"{0}_encoded\".format(indexer.getOutputCol()))\n",
        "              for indexer in indexers ]\n",
        "\n",
        "# Por último usamos el assembler para unir datos de entrada en una columna (atributos) y la salida en otra columna distinta (hospital_death)\n",
        "assembler = VectorAssembler(inputCols=[encoder.getOutputCol() for encoder in encoders]\n",
        "                            + continuousCols, outputCol=\"atributos\", handleInvalid=\"skip\")\n",
        "\n",
        "#Incorporamos el modelo de regresión logística\n",
        "lr = LogisticRegression(featuresCol = 'atributos', labelCol = 'hospital_death', maxIter=10)\n",
        "\n",
        "modeloRL = Pipeline(stages=indexers + encoders + [assembler] + [lr])\n",
        "\n",
        "#Construimos el modelo: preprocesamiento + regresión logística\n",
        "clasificador = modeloRL.fit(train)\n",
        "\n",
        "#Obtenemos las predicciones sobre el conjunto de test\n",
        "predicciones = clasificador.transform(test)\n",
        "\n",
        "#Ya podemos mostrar la precisión del modelo\n",
        "evaluator = MulticlassClassificationEvaluator(labelCol=\"hospital_death\", metricName=\"accuracy\")\n",
        "print('Accuracy:', evaluator.evaluate(predicciones))"
      ],
      "metadata": {
        "id": "TPkgjw7AUslV",
        "outputId": "cfa0c22d-8376-4b43-c356-c1e94c4cc253",
        "colab": {
          "base_uri": "https://localhost:8080/"
        }
      },
      "execution_count": 7,
      "outputs": [
        {
          "output_type": "stream",
          "name": "stdout",
          "text": [
            "Accuracy: 0.948800084020375\n"
          ]
        }
      ]
    },
    {
      "cell_type": "markdown",
      "metadata": {
        "id": "zFNjux2udLGh"
      },
      "source": [
        "A continuación vamos a ver las métricas y modelos de validación que podemos usar en Spark, en concreto, en aprendizaje supervisado."
      ]
    },
    {
      "cell_type": "markdown",
      "metadata": {
        "id": "X-t1BW3nDlco"
      },
      "source": [
        "##**5. MÉTRICAS PARA LA EVALUACIÓN DE LOS MODELOS DE APRENDIZAJE SUPERVISADO.**"
      ]
    },
    {
      "cell_type": "markdown",
      "metadata": {
        "id": "yhbV_xKD_9e1"
      },
      "source": [
        "Respecto de las herramientas existentes para aprendizaje supervisado en ML, tenemos clasificadores y regresores, lo cual depende de si la variable que queremos predecir es discreta o continua, respectivamente.\n",
        "\n",
        "En los clasificadores, distinguiremos aquellos que son para clasificación binaria, es decir, la variable de salida sólo tiene dos estados, de la clasificación multiclase, es decir, aquellos en los que la variable de salida tiene más de dos estados.\n",
        "\n",
        "Tengamos en cuenta, que los clasificadores que nos permiten trabajar con problemas multiclase también nos permiten trabajar con problemas binarios. Lo cual tiene sentido, es decir,  si un algoritmo es capaz de discriminar entre 4 ó 10 valores de la variable de salida, también debería ser capaz de distinguir entre dos.\n",
        "\n",
        "En cualquier caso, también podemos usar clasificadores binarios en problemas multiclase, por ejemplo, utilizando la metodología Uno-contra-todos.  Este esquema construye un clasificador base para cada valor de la variable de salida y dicho clasificador distingue el valor i-ésimo del resto. \n",
        "\n",
        "A la hora de evaluar los algoritmos de aprendizaje supervisado, se han visto distintas métricas en capítulos anteriores del curso. Veamos como obtenerlas con Spark.\n",
        "\n",
        "Primero, nos vamos a centrar en el caso de los problemas de clasificación binaria. En estos clasificadores vamos a usar la clase `BinaryClassificationEvaluator` que nos permite \n",
        "calcular la medida `areaUnderROC` que es el área bajo la curva ROC.\n",
        "<!--calcular dos medidas:\n",
        "\n",
        "\n",
        "1.   `areaUnderROC` : El área bajo la curva ROC, o también ROC AUC. Se ha visto ya previamente. \n",
        "2.   `areaUnderPR`: Es el área bajo la curva  Precision-Recall, o también Precision-Recall AUC. La curva PR es el resultado de dibujar la gráfica entre el precision y el recall. Esta gráfica nos permite ver a partir de qué recall tenemos una degradación de la precisión y viceversa. Lo ideal sería una curva que se acerque lo máximo posible a la esquina superior derecha (alta precisión y alto recall). Esta métrica es más apropiada para conjuntos no balanceados, es decir, hay un reparto desigual acusado entre las dos clases del problema.\n",
        "\n",
        "Vamos a usar el ejemplo anterior para mostrar ambas métricas:\n",
        "\n",
        "-->\n",
        "<!-- #La regresión logística, también nos permite mostras la curvas ROC\n",
        "import matplotlib.pyplot as plt\n",
        "trainingSummary = clasificador.stages[-1].summary\n",
        "roc = trainingSummary.roc.toPandas()\n",
        "plt.plot(roc['FPR'].tolist(),roc['TPR'].tolist(),color='orange')\n",
        "plt.ylabel('False Positive Rate')\n",
        "plt.xlabel('True Positive Rate')\n",
        "plt.title('ROC Curve')\n",
        "plt.plot([0, 1], [0, 1], color='navy',  linestyle='--')\n",
        "plt.show()\n",
        "-->"
      ]
    },
    {
      "cell_type": "code",
      "metadata": {
        "id": "GVOUTyviI0kb",
        "colab": {
          "base_uri": "https://localhost:8080/"
        },
        "outputId": "5e06fdca-7f4b-4c1e-85e3-3859f7c713f7"
      },
      "source": [
        "from pyspark.ml.evaluation import BinaryClassificationEvaluator\n",
        "\n",
        "#Ya podemos mostrar la bondad de las predicciones del modelo\n",
        "evaluator = BinaryClassificationEvaluator(labelCol=\"hospital_death\", metricName=\"areaUnderROC\")\n",
        "print('ROC AUC:', evaluator.evaluate(predicciones))"
      ],
      "execution_count": 8,
      "outputs": [
        {
          "output_type": "stream",
          "name": "stdout",
          "text": [
            "ROC AUC: 0.4542422145967087\n"
          ]
        }
      ]
    },
    {
      "cell_type": "markdown",
      "metadata": {
        "id": "_YzRvblHI1uW"
      },
      "source": [
        "Ahora nos centramos en el caso de la clasificación multiclase. Es importante señalar que las métricas que usan cuando hay más de una clase se pueden utilizar igualmente en clasificación binaria.  En este caso vamos a usar la clase `MulticlassClassificationEvaluator` y las medidas que podemos obtener son:\n",
        "*  `accuracy`: También llamado proporción de bien clasificados. Se refiere a la ratio de ejemplos positivos correctamente identificados con respecto al total. \n",
        "*  `weightedPrecision`: Es la precisión promediada por etiqueta, es decir, se calcula la media de la precisión por cada etiqueta.\n",
        "*  `weightedRecall`: Es el *Recall* promediado por etiqueta, es decir, se calcula la media de la precisión por cada etiqueta.\n",
        "*  `f1`: También denominado *F-measure*, es la métrica que combina *precision* y  *recall*.\n",
        "\n",
        "Sigamos con el ejemplo anterior que, aún siendo un problema de clasificación binario, podemos calcular estas medidas:\n"
      ]
    },
    {
      "cell_type": "code",
      "metadata": {
        "id": "n_q_5O4FRHej",
        "colab": {
          "base_uri": "https://localhost:8080/"
        },
        "outputId": "48d1b655-c72c-4653-f59f-282530c97a27"
      },
      "source": [
        "from pyspark.ml.evaluation import MulticlassClassificationEvaluator\n",
        "\n",
        "#Ya podemos mostrar la bondad de las predicciones del modelo multiclase\n",
        "evaluator = MulticlassClassificationEvaluator(labelCol=\"hospital_death\")\n",
        "print('F1:', evaluator.evaluate(predicciones))\n",
        "print('Accuracy:', evaluator.evaluate(predicciones, {evaluator.metricName: \"accuracy\"}))\n",
        "print('Weighted Precision:', evaluator.evaluate(predicciones, {evaluator.metricName: \"weightedPrecision\"}))\n",
        "print('Weighted Recall:', evaluator.evaluate(predicciones, {evaluator.metricName: \"weightedRecall\"}))"
      ],
      "execution_count": 9,
      "outputs": [
        {
          "output_type": "stream",
          "name": "stdout",
          "text": [
            "F1: 0.9238727017908509\n",
            "Accuracy: 0.948800084020375\n",
            "Weighted Precision: 0.9002215994370705\n",
            "Weighted Recall: 0.948800084020375\n"
          ]
        }
      ]
    },
    {
      "cell_type": "markdown",
      "metadata": {
        "id": "vzPE5-RPRINc"
      },
      "source": [
        "\n",
        "\n",
        "En el caso de que la variable a predecir sea una variable continua, se dice que el modelo Machine Learning es un regresor. Para el caso de la regresión vamos a usar la clase `RegressionEvaluator` y las medidas que podemos obtener son:\n",
        "<!--* `mse`: Error cuadrático medio. Mide el error cuadrado promedio de nuestras predicciones. Para cada punto, calcula la diferencia cuadrada entre las predicciones y el objetivo y luego promedia esos valores.-->\n",
        "* `rmse`:  Es la raíz cuadrada del error cuadrático medio. La raíz cuadrada se introduce para hacer que la escala de los errores sea igual a la escala de los objetivos.\n",
        "\n",
        "* `r2`:  El coeficiente de determinación, o $r^2$, está estrechamente relacionada con el error cuadrático medio, pero siempre estará entre -∞ y 1.\n",
        "<!--* `mae`: Error absoluto medio. El error se calcula como un promedio de diferencias absolutas entre los valores objetivo y las predicciones. De esta forma, todas las diferencias individuales se ponderan por igual en el promedio.-->\n",
        "\n",
        "\n",
        "Sigamos con el ejemplo anterior, pero al SER un problema de clasificación binario, no van a tener mucho sentido los resultados. Sólo nos sirve para comprender cómo se usa:\n",
        "<!-- from pyspark.ml.evaluation import RegressionEvaluator\n",
        "\n",
        "#Ya podemos mostrar la bondad de las predicciones del modelo multiclase\n",
        "evaluator = RegressionEvaluator(labelCol=\"clase\")\n",
        "print('rmse:', evaluator.evaluate(predicciones))\n",
        "print('mse:', evaluator.evaluate(predicciones, {evaluator.metricName: \"mse\"}))\n",
        "print('r2:', evaluator.evaluate(predicciones, {evaluator.metricName: \"r2\"}))\n",
        "print('mae:', evaluator.evaluate(predicciones, {evaluator.metricName: \"mae\"}))-->\n",
        "\n"
      ]
    },
    {
      "cell_type": "code",
      "metadata": {
        "id": "jwXHUHAuc6Ux",
        "colab": {
          "base_uri": "https://localhost:8080/"
        },
        "outputId": "55cf3801-43b1-4157-8c57-959f4a16731e"
      },
      "source": [
        "from pyspark.ml.evaluation import RegressionEvaluator\n",
        "\n",
        "#Ya podemos mostrar la bondad de las predicciones del modelo multiclase\n",
        "evaluator = RegressionEvaluator(labelCol=\"hospital_death\")\n",
        "print('rmse:', evaluator.evaluate(predicciones))\n",
        "print('r2:', evaluator.evaluate(predicciones, {evaluator.metricName: \"r2\"}))\n"
      ],
      "execution_count": 10,
      "outputs": [
        {
          "output_type": "stream",
          "name": "stdout",
          "text": [
            "rmse: 0.22627398431906628\n",
            "r2: -0.05396280717290214\n"
          ]
        }
      ]
    },
    {
      "cell_type": "markdown",
      "metadata": {
        "id": "kPbV3-cMEJUO"
      },
      "source": [
        "##**6. VALIDACIÓN DE LOS MODELOS DE APRENDIZAJE SUPERVISADO.**"
      ]
    },
    {
      "cell_type": "markdown",
      "metadata": {
        "id": "LHQrAPCwVunj"
      },
      "source": [
        "Hasta este punto, hemos validado nuestro modelo de ejemplo con diversas métricas, pero usando un sólo método: Entrenamiento y Test. Aunque hemos sido nosotros, con nuestro código, quiénes se han encargado de partir los datos, entrenar el modelo con el conjunto de entrenamiento y probarlo con el de test, se puede automatizar este proceso. Podemos usar la clase `TrainValidationSplit`, indicándole el modelo del clasificador, un objeto `ParamGrimBuilder` que se usa en otras funcionalidades que no veremos, la clase que se encarga de la evaluación y finalmente la proporción de la partición. \n"
      ]
    },
    {
      "cell_type": "code",
      "metadata": {
        "id": "0eBkvoX_-V6q",
        "colab": {
          "base_uri": "https://localhost:8080/"
        },
        "outputId": "8b93158c-6b53-43d6-a0bd-b4b0f914a175"
      },
      "source": [
        "from pyspark.ml.tuning import TrainValidationSplit, ParamGridBuilder\n",
        "\n",
        "#Creamos una clase Evaluador\n",
        "evaluador = MulticlassClassificationEvaluator(labelCol=\"hospital_death\", metricName=\"accuracy\")\n",
        "\n",
        "#Usamos la regresión logística para ser evaluada \n",
        "validadorTT= TrainValidationSplit(estimator=modeloRL,\n",
        "                           estimatorParamMaps=ParamGridBuilder().build(),\n",
        "                           evaluator=evaluador,\n",
        "                           trainRatio=0.8) # 80% de los datos para entrenamiento\n",
        "validadorTT.setSeed(2020)\n",
        "#Entrenamos el modelo con el conjunto completo de datos\n",
        "modeloTT=validadorTT.fit(df)\n",
        "\n",
        "#Mostramos la precisión del modelo\n",
        "print(modeloTT.getEvaluator().getMetricName(), ':',modeloTT.validationMetrics[0] )"
      ],
      "execution_count": 11,
      "outputs": [
        {
          "output_type": "stream",
          "name": "stdout",
          "text": [
            "accuracy : 0.9476815675697117\n"
          ]
        }
      ]
    },
    {
      "cell_type": "markdown",
      "metadata": {
        "id": "-foeAW7Qb_Cq"
      },
      "source": [
        "\n",
        "Este tipo de validación es bastante sencillo y rápido, aunque como vimos, tiene poco rigor estadístico y los resultados dependen demasiado de cómo hagamos la partición de los datos. Al ser una validación tan sesgada, es preferible hacer una validación cruzada de, al menos, unas 10 particiones. No obstante, en Big Data, como hemos dicho, no siempre podremos permitirnos el lujo de escoger una validación tan costosa.\n",
        "\n",
        "Para esta validación podemos usar la clase `CrossValidator`, y donde antes indicábamos el porcentaje de datos para entrenamiento, ahora indicaremos el número de particiones. "
      ]
    },
    {
      "cell_type": "code",
      "metadata": {
        "id": "KNELCN_QAqSh"
      },
      "source": [
        "from pyspark.ml.tuning import CrossValidator\n",
        "\n",
        "#Validación cruzada\n",
        "crossval = CrossValidator(estimator=modeloRL,\n",
        "                          estimatorParamMaps=ParamGridBuilder().build(),\n",
        "                          evaluator=evaluador,\n",
        "                          numFolds=10) \n",
        "#Entrenamos el modelo\n",
        "cvModel=crossval.fit(df)\n",
        "\n",
        "#Ya podemos mostrar la precisión del modelo\n",
        "print(cvModel.getEvaluator().getMetricName(), ':',cvModel.avgMetrics[0])"
      ],
      "execution_count": null,
      "outputs": []
    },
    {
      "cell_type": "markdown",
      "source": [
        "\n",
        "\n",
        "\n",
        "FIN DEL CUADERNO ACTUAL\n",
        "\n",
        "---\n",
        "\n",
        "\n",
        "\n",
        "---\n",
        "\n"
      ],
      "metadata": {
        "id": "mJeyZOcvNXyZ"
      }
    }
  ]
}